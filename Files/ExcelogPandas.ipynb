{
 "cells": [
  {
   "cell_type": "markdown",
   "metadata": {},
   "source": [
    "For å "
   ]
  },
  {
   "cell_type": "markdown",
   "metadata": {},
   "source": [
    "La oss ta utgangspunkt i Exceldokumentet [ExcelogPandas](../Files/ExcelogPandas.xlsx). Denne inneholder en veldig enkel tabell. Tabellen under viser innholdet i dokumentet."
   ]
  },
  {
   "cell_type": "code",
   "execution_count": 3,
   "metadata": {},
   "outputs": [
    {
     "name": "stdout",
     "output_type": "stream",
     "text": [
      "|    | Student Name   |   Age | Subject   |   Grade |\n",
      "|---:|:---------------|------:|:----------|--------:|\n",
      "|  0 | John Smith     |    21 | Math      |      90 |\n",
      "|  1 | Jane Doe       |    22 | Chemistry |      85 |\n",
      "|  2 | Tom Johnson    |    21 | Physics   |      80 |\n"
     ]
    }
   ],
   "source": [
    "import pandas as pd\n",
    "\n",
    "df = pd.read_excel('ExcelogPandas.xlsx')\n",
    "\n",
    "markdown_tabell = df.to_markdown()\n",
    "\n",
    "print(markdown_tabell)"
   ]
  },
  {
   "cell_type": "markdown",
   "metadata": {},
   "source": [
    "Vi kan legge merke til at første kolonne er en index-kolonne. Hvis vi ikke ønsker den kan vi legge inn en parameter når vi definerer markdowntabellen slik `markdown_tabell = df.to_markdown(index=False)`. Med Pandas kan vi enkelt filtrere vekk andre kolonner vi ikke er interessert i å se. La oss anta at vi kun er interessert i navn, fag og karakter og at vi ikke ønsker å se en indeks-kolonne. Da kan vi filtrere df til kun disse kolonnene slik "
   ]
  },
  {
   "cell_type": "code",
   "execution_count": null,
   "metadata": {},
   "outputs": [],
   "source": [
    "import pandas as pd\n",
    "\n",
    "df = pd.read_excel('ExcelogPandas.xlsx')\n",
    "df = df[[\"Student Name\", \"Subject\", \"Grade\"]]\n",
    "\n",
    "markdown_tabell = df.to_markdown(index=False)\n",
    "print(markdown_tabell)"
   ]
  },
  {
   "cell_type": "markdown",
   "metadata": {},
   "source": [
    "# Eksempel\n",
    "\n"
   ]
  },
  {
   "cell_type": "code",
   "execution_count": 12,
   "metadata": {},
   "outputs": [
    {
     "name": "stdout",
     "output_type": "stream",
     "text": [
      "| Tema       | Læringsmåltekst                                                                                                                                   | Mild                                                                                                                                       | Medium                                                                                                                                                  | Spicy                                                                                                                 |\n",
      "|:-----------|:--------------------------------------------------------------------------------------------------------------------------------------------------|:-------------------------------------------------------------------------------------------------------------------------------------------|:--------------------------------------------------------------------------------------------------------------------------------------------------------|:----------------------------------------------------------------------------------------------------------------------|\n",
      "| Funksjoner | Bruke begrepene lineær funksjon, andregradsfunksjon og omvendt proporsjonal funksjon.                                                             | Forklare kjennetegn ved og gi eksempler på funksjonstypene.                                                                                | Bestemme og begrunne funksjonstype basert på beskrivelse av situasjon, uttrykk, graf og tabell.                                                         | Gjøre om mellom ulike representasjonsformer for de tre funksjonstypene, og begrunne omgjøringen.                      |\n",
      "| Funksjoner | Forklare sammenhenger mellom parameterne i funksjonsuttrykket og grafen til lineære funksjoner.                                                   | Forklare hvordan endringer i stigningstall og konstantledd påvirker grafen til en lineær funksjon.                                         | Forklare hvordan man kan finne likninga til en lineær funksjon når to punkter på grafen er kjent uten bruk av topunktsformelen.                         |                                                                                                                       |\n",
      "| Funksjoner | Forklare hvordan endringer i parameterne i funksjonsuttrykket påvirker grafene til andregrads- og omvendt proporsjonale funksjoner.               | Gjengi hvilke roller parameterne i funksjonsuttrykkene til andregrads- og omvendt proporsjonale funksjoner spiller med hensyn til grafene. | Forklare hvordan endringer i parameterne i funksjonsuttrykket påvirker grafene til andregrads- og omvendt proporsjonale funksjoner.                     |                                                                                                                       |\n",
      "| Funksjoner | Løse likninger fra funksjonsperspektiv.                                                                                                           | Forklare algebraisk og grafisk hva som menes med løsningen av en lineær likning.                                                           | Tolke lineære likninger grafisk, og finne skjæringspunkt mellom lineære grafer og mellom lineære grafer og aksene.                                      | Tolke likninger grafisk, og finne skjæringspunkt mellom grafer til ulike typer funksjoner og mellom grafer og aksene. |\n",
      "| Funksjoner | Bruke begrepene funksjon, variabel, uavhengig variabel (innverdi), avhengig variabel (utverdi), funksjonsverdi, definisjonsmengde og verdimengde. | Gjengi, forklare og gi eksempler på begrepene.                                                                                             | Avgjøre og begrunne (ved hjelp av begrepene) om en gitt sammenheng er en funksjonssammenheng.                                                           |                                                                                                                       |\n",
      "| Funksjoner | Gjøre om mellom ulike representasjonsformer for funksjonssammenhenger.                                                                            |                                                                                                                                            | Gjøre om mellom de fire representasjonene av funksjoner (Janviers tabell, Alfa 4.1), og vurdere elevers arbeid med overganger mellom representasjonene. |                                                                                                                       |\n",
      "| Funksjoner | Utforske egenskaper ved funksjoner i GeoGebra.                                                                                                    | Bruke GeoGebra til å undersøke sammenhenger mellom graf og parametere i funksjonsuttrykk.                                                  |                                                                                                                                                         |                                                                                                                       |\n"
     ]
    }
   ],
   "source": [
    "import pandas as pd\n",
    "\n",
    "# Read the specific sheet from the Excel file\n",
    "file_path = 'LæringsmålMA173.xlsx'\n",
    "df = pd.read_excel(file_path)\n",
    "\n",
    "# Select the desired columns\n",
    "columns_to_select = [\"Tema\", \"Læringsmåltekst\", \"Mild\", \"Medium\", \"Spicy\"]\n",
    "df = df[columns_to_select]\n",
    "\n",
    "# Apply a boolean mask to filter rows containing the string \"Funksjoner\" in the \"Tema\" column\n",
    "df = df[df['Tema'].str.contains('Funksjoner', case=False, na=False)]\n",
    "\n",
    "# Replace NaN values with an empty string\n",
    "df = df.fillna('')\n",
    "\n",
    "markdown_tabell = df.to_markdown(index=False)\n",
    "print(markdown_tabell)"
   ]
  },
  {
   "cell_type": "markdown",
   "metadata": {},
   "source": []
  },
  {
   "cell_type": "markdown",
   "metadata": {},
   "source": []
  }
 ],
 "metadata": {
  "kernelspec": {
   "display_name": "Python 3",
   "language": "python",
   "name": "python3"
  },
  "language_info": {
   "codemirror_mode": {
    "name": "ipython",
    "version": 3
   },
   "file_extension": ".py",
   "mimetype": "text/x-python",
   "name": "python",
   "nbconvert_exporter": "python",
   "pygments_lexer": "ipython3",
   "version": "3.11.3"
  },
  "orig_nbformat": 4
 },
 "nbformat": 4,
 "nbformat_minor": 2
}
